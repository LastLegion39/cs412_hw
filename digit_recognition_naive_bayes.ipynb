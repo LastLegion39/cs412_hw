{
 "cells": [
  {
   "cell_type": "markdown",
   "metadata": {},
   "source": [
    "## Q1"
   ]
  },
  {
   "cell_type": "code",
   "execution_count": 1,
   "metadata": {},
   "outputs": [],
   "source": [
    "from mnist import MNIST\n",
    "from sklearn import tree, neighbors\n",
    "from sklearn.metrics import accuracy_score\n",
    "mndata = MNIST('samples')"
   ]
  },
  {
   "cell_type": "code",
   "execution_count": 2,
   "metadata": {},
   "outputs": [],
   "source": [
    "images, labels = mndata.load_training()\n",
    "testImages, testLabels = mndata.load_testing()"
   ]
  },
  {
   "cell_type": "code",
   "execution_count": 3,
   "metadata": {},
   "outputs": [
    {
     "name": "stdout",
     "output_type": "stream",
     "text": [
      "0.8719\n",
      "0.875\n",
      "0.8183\n"
     ]
    }
   ],
   "source": [
    "clf1 = tree.DecisionTreeClassifier(max_depth=28, min_samples_split=28)\n",
    "clf2 = tree.DecisionTreeClassifier(max_depth=18, min_samples_split=18)\n",
    "clf3 = tree.DecisionTreeClassifier(max_depth=8, min_samples_split=8)\n",
    "# clf = tree.DecisionTreeClassifier()\n",
    "clf1 = clf1.fit(images, labels)\n",
    "clf2 = clf2.fit(images, labels)\n",
    "clf3 = clf3.fit(images, labels)\n",
    "\n",
    "predictionRes1 = clf1.predict(testImages)\n",
    "predictionRes2 = clf2.predict(testImages)\n",
    "predictionRes3 = clf3.predict(testImages)\n",
    "\n",
    "print(accuracy_score(predictionRes1, testLabels.tolist()))\n",
    "print(accuracy_score(predictionRes2, testLabels.tolist()))\n",
    "print(accuracy_score(predictionRes3, testLabels.tolist()))"
   ]
  },
  {
   "cell_type": "code",
   "execution_count": 4,
   "metadata": {},
   "outputs": [
    {
     "name": "stdout",
     "output_type": "stream",
     "text": [
      "# of Nodes:  3371\n"
     ]
    }
   ],
   "source": [
    "print(\"# of Nodes: \", clf2.tree_.node_count)"
   ]
  },
  {
   "cell_type": "markdown",
   "metadata": {},
   "source": [
    "### b)"
   ]
  },
  {
   "cell_type": "code",
   "execution_count": 22,
   "metadata": {
    "scrolled": true
   },
   "outputs": [
    {
     "name": "stdout",
     "output_type": "stream",
     "text": [
      "489\n",
      "13 17\n"
     ]
    }
   ],
   "source": [
    "important = max(clf2.feature_importances_)\n",
    "imp = 0\n",
    "for index in range (0, len(clf2.feature_importances_)):\n",
    "    if clf2.feature_importances_[index] == important:\n",
    "        imp = index\n",
    "print(imp)\n",
    "x = imp % 28\n",
    "y = (imp - x) // 28\n",
    "print(x,y)"
   ]
  },
  {
   "cell_type": "markdown",
   "metadata": {},
   "source": [
    "### Bonus"
   ]
  },
  {
   "cell_type": "code",
   "execution_count": 42,
   "metadata": {},
   "outputs": [],
   "source": [
    "def seven (images):\n",
    "    newImages = []\n",
    "    for i in range (0, len(images)):\n",
    "        newImage = []\n",
    "        for j in range (0,28,4):\n",
    "            for k in range (0,7):\n",
    "                t = k*112\n",
    "                one = sum(images[i][:t + j + 4])\n",
    "                two = sum(images[i][:t + j + 4 + 28 ])\n",
    "                three = sum(images[i][:t + j + 4 + 28 * 2])\n",
    "                four = sum(images[i][:t + j + 4 + 28 * 3])\n",
    "                mean = (one + two + three + four) / 16\n",
    "                newImage.append(mean)\n",
    "        newImages.append(newImage)\n",
    "    return newImages"
   ]
  },
  {
   "cell_type": "code",
   "execution_count": 43,
   "metadata": {},
   "outputs": [
    {
     "name": "stdout",
     "output_type": "stream",
     "text": [
      "0.7131\n"
     ]
    }
   ],
   "source": [
    "newFeatures = seven(images)\n",
    "clf1 = tree.DecisionTreeClassifier(max_depth=28, min_samples_split=28)\n",
    "clf1 = clf1.fit(newFeatures, labels)\n",
    "newTestImages = seven(testImages)\n",
    "predictionRes1 = clf1.predict(newTestImages)\n",
    "print(accuracy_score(predictionRes1, testLabels.tolist()))"
   ]
  },
  {
   "cell_type": "markdown",
   "metadata": {},
   "source": [
    "## Q2"
   ]
  },
  {
   "cell_type": "code",
   "execution_count": 15,
   "metadata": {},
   "outputs": [
    {
     "name": "stdout",
     "output_type": "stream",
     "text": [
      "1\n",
      "3\n",
      "5\n"
     ]
    },
    {
     "data": {
      "text/plain": [
       "[0.9691, 0.9705, 0.9688]"
      ]
     },
     "execution_count": 15,
     "metadata": {},
     "output_type": "execute_result"
    }
   ],
   "source": [
    "arr = []\n",
    "for i in range (1,6,2):\n",
    "    print(i)\n",
    "    knn = neighbors.KNeighborsClassifier(n_neighbors = i, metric = \"euclidean\").fit(images, labels)\n",
    "    predictionRes = knn.predict(testImages)\n",
    "    arr.append(accuracy_score(predictionRes, testLabels.tolist()))\n",
    "arr"
   ]
  },
  {
   "cell_type": "markdown",
   "metadata": {},
   "source": [
    "## Q3 a)"
   ]
  },
  {
   "cell_type": "code",
   "execution_count": 25,
   "metadata": {},
   "outputs": [
    {
     "data": {
      "text/plain": [
       "0.5558"
      ]
     },
     "execution_count": 25,
     "metadata": {},
     "output_type": "execute_result"
    }
   ],
   "source": [
    "from sklearn.naive_bayes import GaussianNB\n",
    "gnb = GaussianNB()\n",
    "gnb.fit(images, labels)\n",
    "pred = gnb.predict(testImages)\n",
    "accuracy_score(pred, testLabels.tolist())"
   ]
  },
  {
   "cell_type": "markdown",
   "metadata": {},
   "source": [
    "## b)"
   ]
  },
  {
   "cell_type": "code",
   "execution_count": 26,
   "metadata": {},
   "outputs": [
    {
     "name": "stdout",
     "output_type": "stream",
     "text": [
      "4 160\n",
      "903 11128\n"
     ]
    }
   ],
   "source": [
    "point = 14+14*28\n",
    "sumZero = 0\n",
    "sumThree = 0\n",
    "countZero = 0\n",
    "countThree = 0\n",
    "sumVarZero = 0\n",
    "sumVarThree = 0\n",
    "\n",
    "for i in range (0, len(images)):\n",
    "    if labels[i] == 0:\n",
    "        sumZero += images[i][point]\n",
    "        countZero += 1\n",
    "    elif labels[i] == 3:\n",
    "        sumThree += images[i][point]\n",
    "        countThree += 1\n",
    "\n",
    "meanZero = sumZero // countZero\n",
    "meanThree = sumThree // countThree\n",
    "        \n",
    "for i in range (0, len(images)):\n",
    "    if labels[i] == 0:\n",
    "        sumVarZero += pow((images[i][point] - meanZero),2)\n",
    "    elif labels[i] == 3:\n",
    "        sumVarThree += pow((images[i][point] - meanThree),2)\n",
    "        \n",
    "varZero = sumVarZero // countZero\n",
    "varThree = sumVarThree // countThree\n",
    "  \n",
    "print(meanZero, meanThree)\n",
    "print(varZero, varThree)        \n"
   ]
  },
  {
   "cell_type": "markdown",
   "metadata": {},
   "source": [
    "### Q4"
   ]
  },
  {
   "cell_type": "code",
   "execution_count": 27,
   "metadata": {},
   "outputs": [
    {
     "name": "stderr",
     "output_type": "stream",
     "text": [
      "/Users/bugrakaya/anaconda3/lib/python3.7/site-packages/sklearn/discriminant_analysis.py:682: UserWarning: Variables are collinear\n",
      "  warnings.warn(\"Variables are collinear\")\n"
     ]
    },
    {
     "data": {
      "text/plain": [
       "0.5429"
      ]
     },
     "execution_count": 27,
     "metadata": {},
     "output_type": "execute_result"
    }
   ],
   "source": [
    "from sklearn.discriminant_analysis import QuadraticDiscriminantAnalysis, LinearDiscriminantAnalysis\n",
    "clf = QuadraticDiscriminantAnalysis()\n",
    "clf.fit(images,labels)\n",
    "pred = clf.predict(testImages)\n",
    "accuracy_score(pred, testLabels.tolist())"
   ]
  },
  {
   "cell_type": "code",
   "execution_count": 28,
   "metadata": {},
   "outputs": [
    {
     "name": "stderr",
     "output_type": "stream",
     "text": [
      "/Users/bugrakaya/anaconda3/lib/python3.7/site-packages/sklearn/discriminant_analysis.py:442: UserWarning: The priors do not sum to 1. Renormalizing\n",
      "  UserWarning)\n",
      "/Users/bugrakaya/anaconda3/lib/python3.7/site-packages/sklearn/discriminant_analysis.py:388: UserWarning: Variables are collinear.\n",
      "  warnings.warn(\"Variables are collinear.\")\n"
     ]
    },
    {
     "data": {
      "text/plain": [
       "0.873"
      ]
     },
     "execution_count": 28,
     "metadata": {},
     "output_type": "execute_result"
    }
   ],
   "source": [
    "clf = LinearDiscriminantAnalysis()\n",
    "clf.fit(images,labels)\n",
    "pred = clf.predict(testImages)\n",
    "accuracy_score(pred, testLabels.tolist())"
   ]
  },
  {
   "cell_type": "code",
   "execution_count": 41,
   "metadata": {},
   "outputs": [
    {
     "name": "stderr",
     "output_type": "stream",
     "text": [
      "/Users/bugrakaya/anaconda3/lib/python3.7/site-packages/sklearn/discriminant_analysis.py:682: UserWarning: Variables are collinear\n",
      "  warnings.warn(\"Variables are collinear\")\n"
     ]
    },
    {
     "name": "stdout",
     "output_type": "stream",
     "text": [
      "0.5553333333333333\n"
     ]
    }
   ],
   "source": [
    "from sklearn.model_selection import train_test_split\n",
    "xtrain, xvalid, ytrain, yvalid = train_test_split(images, labels, test_size = 0.2)\n",
    "clf = QuadraticDiscriminantAnalysis()\n",
    "clf.fit(xtrain, ytrain)\n",
    "pred3 = five.predict(xvalid)\n",
    "print(accuracy_score(pred3, yvalid))"
   ]
  }
 ],
 "metadata": {
  "kernelspec": {
   "display_name": "Python 3",
   "language": "python",
   "name": "python3"
  },
  "language_info": {
   "codemirror_mode": {
    "name": "ipython",
    "version": 3
   },
   "file_extension": ".py",
   "mimetype": "text/x-python",
   "name": "python",
   "nbconvert_exporter": "python",
   "pygments_lexer": "ipython3",
   "version": "3.7.0"
  }
 },
 "nbformat": 4,
 "nbformat_minor": 2
}
